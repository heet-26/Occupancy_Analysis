{
  "cells": [
    {
      "cell_type": "code",
      "execution_count": null,
      "metadata": {
        "id": "8sVSOMY9OZbB"
      },
      "outputs": [],
      "source": [
        "# This command checks the status of the NVIDIA GPU available in the environment.\n",
        "# It prints out details like GPU model, driver version, CUDA version, and memory usage.\n",
        "\n",
        "!nvidia-smi"
      ]
    },
    {
      "cell_type": "markdown",
      "metadata": {
        "id": "-EZJydskzmY3"
      },
      "source": [
        "# Google drive Mounting\n",
        "---------\n",
        "*   This code mounts Google Drive to the Colab enviroment.\n",
        "*   It allows you to access the stored files in your drive.\n",
        "*   If you want to store all input and output data on the drive, then only run the below code and kindly change the path wherever required.\n",
        "\n",
        "\n"
      ]
    },
    {
      "cell_type": "code",
      "execution_count": null,
      "metadata": {
        "colab": {
          "base_uri": "https://localhost:8080/"
        },
        "id": "H-0NPz0IA6uk",
        "outputId": "fa1aee5e-e595-4f2a-cf96-a335e132ef74"
      },
      "outputs": [
        {
          "output_type": "stream",
          "name": "stdout",
          "text": [
            "Mounted at /content/drive\n"
          ]
        }
      ],
      "source": [
        "from google.colab import drive\n",
        "drive.mount('/content/drive')"
      ]
    },
    {
      "cell_type": "markdown",
      "source": [
        "* Below, markdown will help in unziping the zip file and stored at desired location.\n",
        "* \"data.zip\" file is shared seperately."
      ],
      "metadata": {
        "id": "RwV-pyinqcMy"
      }
    },
    {
      "cell_type": "code",
      "execution_count": null,
      "metadata": {
        "id": "IlcgHIe7CO76"
      },
      "outputs": [],
      "source": [
        "# Define the path to the zip file\n",
        "zip_file_path = '/content/data.zip'\n",
        "\n",
        "# Define the directory where the files will be extracted\n",
        "extract_dir = '/content'\n",
        "\n",
        "# Extract the zip file\n",
        "!unzip {zip_file_path} -d {extract_dir}\n",
        "\n",
        "# Optionally, remove the zip file if no longer needed\n",
        "!rm {zip_file_path}\n",
        "\n",
        "# Change directory to the extracted folder\n",
        "import os\n",
        "os.chdir(extract_dir)\n",
        "\n",
        "# Move media files to the desired location if needed\n",
        "# !cp -R *.mp4 ../\n"
      ]
    },
    {
      "cell_type": "markdown",
      "metadata": {
        "id": "Euk660Siyw-l"
      },
      "source": [
        "# Libary Installation\n",
        "------------\n",
        "1. '**roboflow**' is a tool for managing datasets and training computer vision models.\n",
        "2. '**Supervision**' for visualization and extracting metrics from our predicted model results.\n",
        "3. '**Ultralytics**' package, which includes the YOLO (You look only once) model\n",
        "and its implementation.\n",
        "4. '**Numpy**' for numerical operations.\n",
        "5. '**os**' for efficient interacting with the operating system.\n",
        "6. '**PIL**' Python imaging libary for image manipulation.\n"
      ]
    },
    {
      "cell_type": "code",
      "execution_count": null,
      "metadata": {
        "id": "SoS-j_IFOzkl"
      },
      "outputs": [],
      "source": [
        "pip install ultralytics -q"
      ]
    },
    {
      "cell_type": "code",
      "execution_count": null,
      "metadata": {
        "id": "zf74xleiOtCC"
      },
      "outputs": [],
      "source": [
        "!pip install roboflow supervision==0.19.0 -q"
      ]
    },
    {
      "cell_type": "code",
      "execution_count": null,
      "metadata": {
        "id": "0sqwQJEFDRV5"
      },
      "outputs": [],
      "source": [
        "from ultralytics import YOLO # This import the YOLO class from the ultralytics package"
      ]
    },
    {
      "cell_type": "code",
      "execution_count": null,
      "metadata": {
        "id": "R5dB5VPhDPpx"
      },
      "outputs": [],
      "source": [
        "import supervision as sv\n",
        "import os\n",
        "import cv2\n",
        "import numpy as np\n",
        "from PIL import Image"
      ]
    },
    {
      "cell_type": "markdown",
      "metadata": {
        "id": "rq201icFz-wA"
      },
      "source": [
        "## Data Arrangement\n",
        "---\n",
        "* Here, directories are created to manage and arrange the data.\n",
        "* 'frames' this directory is created to store video frames. Further, these frames are utilised for dataset generation.\n",
        "* 'hetamap' this directory is used to store heatmap of the output processed video.\n",
        "* 'graphs' this directory is used to store graphs of the output processed video."
      ]
    },
    {
      "cell_type": "code",
      "execution_count": null,
      "metadata": {
        "id": "R5rLl7FAO5ht"
      },
      "outputs": [],
      "source": [
        "import os\n",
        "\n",
        "FRAMES_DIR = \"/content/frames\"\n",
        "os.mkdir(FRAMES_DIR)"
      ]
    },
    {
      "cell_type": "code",
      "execution_count": null,
      "metadata": {
        "id": "A8vsjj6jQs1h"
      },
      "outputs": [],
      "source": [
        "import os\n",
        "\n",
        "HEATMAP_DIR = \"/content/heatmap\"\n",
        "os.mkdir(HEATMAP_DIR)"
      ]
    },
    {
      "cell_type": "code",
      "execution_count": null,
      "metadata": {
        "id": "_GcBgcdKQ3Fx"
      },
      "outputs": [],
      "source": [
        "import os\n",
        "\n",
        "GRAPHS_DIR = \"/content/graphs\"\n",
        "os.mkdir(GRAPHS_DIR)"
      ]
    },
    {
      "cell_type": "markdown",
      "metadata": {
        "id": "hrDa3WhkaVfZ"
      },
      "source": [
        "###### This markdwon cell, has code which use the get_video_frames_generator from Supervision libary to get a generator which yields the frames of the video.The genrator which yields the frames are stored in frames directory.  \n",
        "\n",
        "* Here, \"input_1.mp4\" file is shared separately."
      ]
    },
    {
      "cell_type": "code",
      "execution_count": null,
      "metadata": {
        "id": "KNSAzFqrPpL1"
      },
      "outputs": [],
      "source": [
        "# Create a generator that yields frames from the video\n",
        "frame_generator=sv.get_video_frames_generator(\"/content/input_1.mp4\")\n",
        "\n",
        "# Iterate through the frames\n",
        "for i, frame in enumerate(frame_generator):\n",
        "  img = Image.fromarray(frame)\n",
        "  img.save(f\"{FRAMES_DIR}/{i}.jpg\")\n",
        "\n",
        "print(f\"Saved frames to {FRAMES_DIR}\")"
      ]
    },
    {
      "cell_type": "markdown",
      "metadata": {
        "id": "Mru9t3M72Fx2"
      },
      "source": [
        "## Model Training\n",
        "\n",
        "1. model = YOLO(\"yolov8s.pt\")\n",
        "* This line loads a pre-trained YOLOv8 model.\n",
        "\"yolov8s.pt\" refers to the small variant of YOLOv8. The 's' stands for small.\n",
        "The .pt file contains the pre-trained weights for the model.\n",
        "\n",
        "2. results = model.train()\n",
        "* This line starts the training process for the model using the specified parameters.\n",
        "\n",
        "3. Training parameter\n",
        "* data=\"..\"\n",
        "* This specifies the path to the YAML file containing dataset information.\n",
        "The YAML file typically includes paths to training and validation images, as well as class names.\n",
        "\n",
        "* epochs=10\n",
        "* This sets the number of training epochs to 10.\n",
        "An epoch is one complete pass through the entire training dataset.\n",
        "\n",
        "* imgsz=640\n",
        "* This sets the input image size for training to 640x640 pixels.\n",
        "YOLO models typically use square input images."
      ]
    },
    {
      "cell_type": "code",
      "execution_count": null,
      "metadata": {
        "id": "pkXwnoTEDlF5"
      },
      "outputs": [],
      "source": [
        "model=YOLO(\"yolov8s.pt\")\n",
        "results=model.train(data=\"/content/data/data.yaml\",epochs=15,imgsz=640)"
      ]
    },
    {
      "cell_type": "markdown",
      "metadata": {
        "id": "I3ZtugIH3Q5m"
      },
      "source": [
        "### Loading of a trained model\n",
        "* Below, markdown will load the particular trained model from given path.\n",
        "* \"**best.pt**\" usually contains the weights that performed best on the validation set during training."
      ]
    },
    {
      "cell_type": "code",
      "execution_count": null,
      "metadata": {
        "id": "4K8ruXrhEShc"
      },
      "outputs": [],
      "source": [
        "models=YOLO(\"/content/runs/detect/train/weights/best.pt\")"
      ]
    },
    {
      "cell_type": "markdown",
      "metadata": {
        "id": "9dbX_mwC4zts"
      },
      "source": [
        "### Occupancy analysis"
      ]
    },
    {
      "cell_type": "markdown",
      "metadata": {
        "id": "kESEjYXyQgIk"
      },
      "source": [
        "This markdown cell will perform following things\n",
        "* This defines a callback function named callback that takes a numpy array x as input and returns a sv.Detections object.\n",
        "\n",
        "* x: np.ndarray:\n",
        "This specifies that the input x is expected to be a numpy array, likely representing an image.\n",
        "\n",
        "* -> sv.Detections:\n",
        "This indicates that the function will return a Detections object from the Supervision library."
      ]
    },
    {
      "cell_type": "code",
      "execution_count": null,
      "metadata": {
        "id": "6B1v6HSvJ2mM"
      },
      "outputs": [],
      "source": [
        "def callback(x: np.ndarray) -> sv.Detections:\n",
        "    results = models(x, conf=0.20, iou=0.3)\n",
        "    detections = sv.Detections.from_ultralytics(results[0])\n",
        "    return detections"
      ]
    },
    {
      "cell_type": "markdown",
      "metadata": {
        "id": "cWIlYwC45v_H"
      },
      "source": [
        "Zone defining\n",
        "* Setting up a list of the zones to be used with PolygonZone and these, can get polygon coordinates using this [web utility](https://roboflow.github.io/polygonzone/). Although,these coordinates changes with different video inputs and user specific zones."
      ]
    },
    {
      "cell_type": "code",
      "execution_count": null,
      "metadata": {
        "id": "gBrtfpRqKHBK"
      },
      "outputs": [],
      "source": [
        "# Polygons From PolygonZone\n",
        "\n",
        "zones = [\n",
        "    {\n",
        "        'name': \"Zone 1\",\n",
        "        'polygon': np.array([[98, 349],[98, 309],[516, 309],[516, 350]]),\n",
        "         'max': 32\n",
        "    },\n",
        "    {\n",
        "        'name': 'Zone 2',\n",
        "        'polygon': np.array([[76, 202],[514, 205],[514, 283],[73, 278]]),\n",
        "         'max': 38\n",
        "    },\n",
        "    {\n",
        "        'name': 'Zone 3',\n",
        "        'polygon': np.array([[74, 87],[515, 93],[516, 172],[73, 171]]),\n",
        "         'max': 46\n",
        "    },\n",
        "    {\n",
        "        'name': 'Zone 4',\n",
        "        'polygon': np.array([[71, 0],[71, 62],[512, 62],[511, 0]]),\n",
        "         'max': 48\n",
        "    }\n",
        "]"
      ]
    },
    {
      "cell_type": "markdown",
      "metadata": {
        "id": "DebsdsnI7NU0"
      },
      "source": [
        "#### Establishing Supervision\n",
        "To get analysis about parking lot like how much space is occupied. So, we need to gather information about how many vehicles are there in a particluar zone.\n",
        "* For our use case, we will use the following features of Supervision. Refer to the linked documentation for more details:\n",
        "\n",
        "* **ByteTrack**: To track the location of our vehicles, so we can assess how long they are parked\n",
        "* **InferenceSlicer**: A helper utility to run SAHI on our model\n",
        "* **TriangleAnnotator**: To help visualize the locations of the vehicles\n",
        "* **HeatMapAnnotator**: To generate heatmaps so we can identify our busiest areas\n",
        "* **PolygonZone, PolygonZoneAnnotator**: To help count and identify vehicles in\n",
        "our respective zones and the annotator to help visualize those zones.\n",
        "\n",
        "**Step 1**- To track the position of vehicle, we Initialize tracker. Supervision has ByteTracker which does this job in efficient manner.\n",
        "\n",
        "**Step 2**- Supervision's InferenceSlicer is used. It involves dividing a larger image into smaller slices, performing inference on each slice, and then merging the detections.\n",
        "\n",
        "**Step 3**- To locate where vehicle is, we annoate it using TriangleAnnotator.We define proper size for this annotator like base and height.\n",
        "\n",
        "**Step 4**- Function setup_zones is defined for detection.\n",
        "\n",
        "* The function setup_zones initializes each **zone** in the zones list with a history list, a **PolygonZone** object, and a **PolygonZoneAnnotator** object.\n",
        "\n",
        "* Each zone's **PolygonZone** object defines the geometric area of the zone.\n",
        "\n",
        "* Each zone's **PolygonZoneAnnotator** object is used to annotate the frame with the zone's boundaries and other visual indicators.\n",
        "\n",
        "* By the end of this function, each **zone** in the zones list is equipped with the necessary components to track and annotate objects within its defined polygonal area.\n",
        "\n",
        "**Step 5**- To process each frame function process_frame is defined.\n",
        "\n",
        "* The process_frame function performs object detection on a given frame, updates the object tracker, and annotates the frame with triangle annotations for detected objects.\n",
        "\n",
        "* It initializes a heatmap if not provided and annotates it with detected objects.\n",
        "The function then processes each defined zone, checking for the presence of objects within the zone, updating the zone's history, and annotating both the frame and heatmap with zone information.\n",
        "\n",
        "* Finally, it returns the annotated frame and heatmap."
      ]
    },
    {
      "cell_type": "code",
      "execution_count": null,
      "metadata": {
        "id": "2OdpLHZAKPBf"
      },
      "outputs": [],
      "source": [
        "# Initialize object tracker\n",
        "tracker = sv.ByteTrack()\n",
        "\n",
        "# Set up inference slicer for efficient processing of large images\n",
        "slicer = sv.InferenceSlicer(\n",
        "    callback=callback,\n",
        "    slice_wh=(400, 400),\n",
        "    overlap_ratio_wh=(0.2, 0.2),\n",
        "    thread_workers=10,\n",
        "    iou_threshold=0.5\n",
        ")\n",
        "\n",
        "# Initialize annotators\n",
        "triangle_annotator = sv.TriangleAnnotator(\n",
        "    base=20,\n",
        "    height=20\n",
        ")\n",
        "heat_map_annotator = sv.HeatMapAnnotator()\n",
        "\n",
        "# Function to set up zones for detection\n",
        "def setup_zones(frame_wh):\n",
        "  if zones:\n",
        "    for zone in zones:\n",
        "      zone['history'] = []   # Initialize history for each zone\n",
        "      # Create a PolygonZone for each defined zone\n",
        "      zone['PolygonZone'] = sv.PolygonZone(\n",
        "          polygon=zone['polygon'],\n",
        "          frame_resolution_wh=frame_wh\n",
        "      )\n",
        "      zone['PolygonZoneAnnotator'] = sv.PolygonZoneAnnotator(\n",
        "        zone=zone['PolygonZone'],\n",
        "        color=sv.Color.WHITE,\n",
        "        thickness=2,\n",
        "    )\n",
        "\n",
        "# Main function to process each frame\n",
        "def process_frame(frame,heatmap=None):\n",
        "    # Perform object detection on the frame\n",
        "    detections = slicer(image=frame)\n",
        "    # Update tracker with new detections\n",
        "    detections = tracker.update_with_detections(detections)\n",
        "\n",
        "    # Create a copy of the frame for annotation\n",
        "    annotated_frame = frame.copy()\n",
        "\n",
        "    # Add triangle annotations for detected objects\n",
        "    annotated_frame = triangle_annotator.annotate(\n",
        "        scene=annotated_frame,\n",
        "        detections=detections\n",
        "    )\n",
        "\n",
        "    if heatmap is None:\n",
        "      heatmap = np.full(frame.shape, 255, dtype=np.uint8)\n",
        "\n",
        "    heat_map_annotator.annotate(\n",
        "      scene=heatmap,\n",
        "      detections=detections\n",
        "    )\n",
        "    # Process each defined zone\n",
        "    if zones:\n",
        "      for zone in zones:\n",
        "        zone_presence = zone['PolygonZone'].trigger(detections)\n",
        "        zone_present_idxs = [idx for idx, present in enumerate(zone_presence) if present]\n",
        "        zone_present = detections[zone_present_idxs]\n",
        "\n",
        "        zone_count = len(zone_present)\n",
        "        zone['history'].append(zone_count)\n",
        "\n",
        "\n",
        "        annotated_frame = zone['PolygonZoneAnnotator'].annotate(\n",
        "            scene=annotated_frame,\n",
        "            label=f\"{zone['name']}: {zone_count}\"\n",
        "        )\n",
        "\n",
        "        # Heatmap\n",
        "        heatmap = zone['PolygonZoneAnnotator'].annotate(\n",
        "            scene=heatmap,\n",
        "            label=\" \"\n",
        "        )\n",
        "\n",
        "    return annotated_frame, heatmap"
      ]
    },
    {
      "cell_type": "markdown",
      "metadata": {
        "id": "YBOGAzatXLHy"
      },
      "source": [
        "* After the supervision is established the followings thing is done.\n",
        "* Firstly we try the model on single frame of a video which we can get it from frames directory and below code will do perform this and provides results.\n",
        "* After that we process the entire video."
      ]
    },
    {
      "cell_type": "code",
      "execution_count": null,
      "metadata": {
        "id": "n_UFRbw2KSix"
      },
      "outputs": [],
      "source": [
        "image = cv2.imread(\"/content/frames/100.jpg\")\n",
        "image_wh = (image.shape[1],image.shape[0])\n",
        "setup_zones(image_wh)\n",
        "\n",
        "annotated_image, heatmap = process_frame(image)\n",
        "\n",
        "sv.plot_image(annotated_image)\n",
        "sv.plot_image(heatmap)"
      ]
    },
    {
      "cell_type": "markdown",
      "metadata": {
        "id": "QT1unVmJXjV2"
      },
      "source": [
        "### Setting up Graph\n",
        "* It is setup using matplotlib.\n",
        "* This graph represents the history of detections (e.g., vehicles) within each defined zone and the percentage of zone occupancy over time.\n",
        "* They provide a clear and concise visual representation of how each zone is being utilized.\n",
        "* The generate_graphs function is designed to visualize the usage and occupancy data of different zones. It creates individual and combined plots for each zone, showing the history of detections and the percentage of occupancy, and returns these graphs as images. These visualizations are crucial for monitoring, analyzing, and reporting the zone usage data effectively."
      ]
    },
    {
      "cell_type": "code",
      "execution_count": null,
      "metadata": {
        "id": "0Oa30ilmKdII"
      },
      "outputs": [],
      "source": [
        "# Credit to https://matplotlib.org/matplotblog/posts/matplotlib-cyberpunk-style/ for graph styles\n",
        "%matplotlib agg\n",
        "import pandas as pd\n",
        "import matplotlib.pyplot as plt\n",
        "from PIL import Image\n",
        "from io import BytesIO\n",
        "\n",
        "def generate_graphs(max_frames):\n",
        "  plt.ioff()\n",
        "  # Plot Styles\n",
        "  plt.style.use(\"seaborn-dark\")\n",
        "  for param in ['figure.facecolor', 'axes.facecolor', 'savefig.facecolor']:\n",
        "      plt.rcParams[param] = '#212946'\n",
        "\n",
        "  for param in ['text.color', 'axes.labelcolor', 'xtick.color', 'ytick.color']:\n",
        "      plt.rcParams[param] = '0.9'\n",
        "\n",
        "\n",
        "  dataframe = pd.DataFrame()\n",
        "  graphs = {}\n",
        "\n",
        "\n",
        "  for zone in zones:\n",
        "    percentage_history = [(count/zone['max'])*100 for count in zone['history']]\n",
        "    dataframe[zone['name']] = percentage_history\n",
        "    plt.title(f'{zone[\"name\"]} Usage')\n",
        "\n",
        "    # Extra Styles\n",
        "    fig, ax1 = plt.subplots()\n",
        "    ax1.grid(color='#2A3459')\n",
        "\n",
        "    # Data\n",
        "    ax1.plot(zone[\"history\"])\n",
        "\n",
        "    # Axis Labeling\n",
        "    plt.ylabel('Vehicles')\n",
        "    plt.ylim(top=zone[\"max\"])\n",
        "    plt.xlim(right=max_frames)\n",
        "    ax2 = ax1.twinx()\n",
        "    ax2.set_ylabel('Occupied Percentage (%)')\n",
        "\n",
        "    # Export Graph Image\n",
        "    buf = BytesIO()\n",
        "    fig.savefig(buf, format='png', bbox_inches='tight', pad_inches=0)\n",
        "    buf.seek(0)\n",
        "    graphs[zone['name']] = Image.open(buf)\n",
        "    plt.close(fig)\n",
        "\n",
        "\n",
        "  plt.ioff()\n",
        "  dataframe.plot()\n",
        "\n",
        "  # Axis\n",
        "  plt.ylabel('Occupied (%)', fontsize=15)\n",
        "  plt.ylim(top=100)\n",
        "  plt.xlim(right=max_frames)\n",
        "\n",
        "  # Export combined\n",
        "  buf = BytesIO()\n",
        "  plt.savefig(buf, format='png', bbox_inches='tight')\n",
        "  buf.seek(0)\n",
        "\n",
        "  plt.close()\n",
        "\n",
        "  graphs['combined_percentage'] = Image.open(buf)\n",
        "\n",
        "  return graphs"
      ]
    },
    {
      "cell_type": "code",
      "source": [
        "generate_graphs(400)['combined_percentage']"
      ],
      "metadata": {
        "id": "_Nrg3ww8re29"
      },
      "execution_count": null,
      "outputs": []
    },
    {
      "cell_type": "markdown",
      "metadata": {
        "id": "Yd2-pr61XuE3"
      },
      "source": [
        "#### Processing a Video\n",
        "* Now, we can process the video to get detections from the entire video. This process is carried out in following ways\n",
        "\n",
        "* **VIDEO_PATH** and **MAIN_OUTPUT_PATH** these set the path for the input video and the output video.\n",
        "\n",
        "* **frames_generator** is initialized to generate frames from the input video.\n",
        "\n",
        "* **video_info** contains metadata about the video, such as resolution and total frames.\n",
        "\n",
        "* **setup_zones(video_info.resolution_wh)** Initializes the zones with the resolution of the video frames.\n",
        "\n",
        "* Supervision's **VideoSink** helps to write the annotated frames into the output video file.\n",
        "\n",
        "* Process each frame by iterating through each frame in the video using the **frame_generator**\n",
        "\n",
        "* Calling **process_frame** function to perform inference on the current frame. This function will return the annotated frame and update the heatmap.\n",
        "\n",
        "* Lastly, writing the processed and annotated frame to the output video file.\n"
      ]
    },
    {
      "cell_type": "code",
      "execution_count": null,
      "metadata": {
        "id": "Lvr9hYfgLknJ"
      },
      "outputs": [],
      "source": [
        "VIDEO_PATH = \"/content/input_1.mp4\" # Path to input video\n",
        "MAIN_OUTPUT_PATH = \"/content/parkinglot_annotated_output_1.mp4\" # Path to store ouput video\n",
        "frames_generator = sv.get_video_frames_generator(source_path=VIDEO_PATH)\n",
        "video_info = sv.VideoInfo.from_video_path(video_path=VIDEO_PATH)\n",
        "\n",
        "setup_zones(video_info.resolution_wh)\n",
        "\n",
        "\n",
        "with sv.VideoSink(target_path=MAIN_OUTPUT_PATH, video_info=video_info) as sink:\n",
        "  heatmap = None\n",
        "  for i, frame in enumerate(frames_generator):\n",
        "    print(f\"Processing frame {i}\")\n",
        "\n",
        "    # Infer\n",
        "    annotated_frame, heatmap = process_frame(frame, heatmap)\n",
        "\n",
        "    # Save the latest heatmap\n",
        "    Image.fromarray(heatmap).save(f\"/content/heatmap/{i}.jpg\")\n",
        "\n",
        "    # Create Graphs\n",
        "    graphs = generate_graphs(video_info.total_frames)\n",
        "    graph = graphs[\"combined_percentage\"].convert(\"RGB\")\n",
        "    graph.save(f\"/content/graphs/{i}.jpg\")\n",
        "\n",
        "    sv.plot_image(annotated_frame)\n",
        "\n",
        "    # Send as frame to video\n",
        "    sink.write_frame(frame=annotated_frame)"
      ]
    },
    {
      "cell_type": "markdown",
      "source": [
        "* Below code is designed to take a series of numbered images (e.g., 0.jpg, 1.jpg, 2.jpg, etc.) from a specified directory (graphs and heatmap) and combine them into a video. It's particularly useful for creating videos from sequences of graphs or heatmaps, which could represent the evolution of some data over time.\n",
        "\n",
        "* After the code is run it gnerates two output video namely \"**parkinglot_graph_output_1.mp4**\" and \"**parkinglot_heatmap_output_1.mp4**\" respectively. However, these videos are shared separately.\n",
        "\n",
        "* This parkinglot_graph_output video will provide inforamtion about number of cars present in a particular zone over the time."
      ],
      "metadata": {
        "id": "ozAXAAVTjgNn"
      }
    },
    {
      "cell_type": "code",
      "execution_count": null,
      "metadata": {
        "id": "TeyPVa5AQCog"
      },
      "outputs": [],
      "source": [
        "import cv2\n",
        "def create_videos_from_dir(dir,output):\n",
        "  images = len(os.listdir(dir))-1\n",
        "\n",
        "  sample_img_path = os.path.join(dir,f\"1.jpg\")\n",
        "  sample_img = cv2.imread(sample_img_path)\n",
        "  height, width, channels = sample_img.shape\n",
        "  video_info = sv.VideoInfo(width=width,height=height,fps=24,total_frames=images)\n",
        "\n",
        "  with sv.VideoSink(target_path=output, video_info=video_info) as sink:\n",
        "    for i in range(images):\n",
        "      path = os.path.join(dir,f\"{i}.jpg\")\n",
        "      img = cv2.imread(path)\n",
        "      sink.write_frame(frame=img)\n",
        "\n",
        "# Graphs\n",
        "create_videos_from_dir(\"/content/graphs\",\"/content/parkinglot_graph_output_1.mp4\")\n",
        "\n",
        "# Heatmap\n",
        "create_videos_from_dir(\"/content/heatmap\",\"/content/parkinglot_heatmap_output_1.mp4\")"
      ]
    },
    {
      "cell_type": "markdown",
      "source": [
        "### Analytics of Parking Lot\n",
        "\n",
        "\n",
        "1.   Zone wise analysis\n",
        "\n",
        "\n",
        "* Below, code calculate and print various occupancy statistics for each zone in a list of zones."
      ],
      "metadata": {
        "id": "OQMSZwRMj15X"
      }
    },
    {
      "cell_type": "code",
      "execution_count": null,
      "metadata": {
        "id": "Bce3ROCXZ_LS"
      },
      "outputs": [],
      "source": [
        "import statistics\n",
        "for zone in zones:\n",
        "    occupancy_percent_history = [(count/zone['max'])*100 for count in zone['history']]\n",
        "    average_occupancy = round(statistics.mean(occupancy_percent_history))\n",
        "    median_occupancy = round(statistics.median(occupancy_percent_history))\n",
        "    highest_occupancy = round(max(occupancy_percent_history))\n",
        "    lowest_occupancy = round(min(occupancy_percent_history))\n",
        "    print(f\"{zone['name']} had an average occupancy of {average_occupancy}% with a median occupancy of {median_occupancy}%.\")"
      ]
    },
    {
      "cell_type": "markdown",
      "source": [
        "\n",
        "2.   Entire zone analysis\n",
        "\n",
        "\n",
        "* Below, code calculates occupancy statistics for the entire parking lot by combining data from all zones."
      ],
      "metadata": {
        "id": "wES_wToVmDTB"
      }
    },
    {
      "cell_type": "code",
      "execution_count": null,
      "metadata": {
        "id": "pqb8Me8u_5va"
      },
      "outputs": [],
      "source": [
        "lot_history = []\n",
        "for zone in zones:\n",
        "    for idx, entry in enumerate(zone['history']):\n",
        "      if(idx >= len(lot_history) or len(lot_history)==0): lot_history.append([])\n",
        "      lot_history[idx].append(zone['history'][idx]/zone['max'])\n",
        "\n",
        "lot_occupancy_history = [sum(entry)/len(entry)*100 for entry in lot_history]\n",
        "\n",
        "average_occupancy = round(statistics.mean(lot_occupancy_history))\n",
        "median_occupancy = round(statistics.median(lot_occupancy_history))\n",
        "highest_occupancy = round(max(lot_occupancy_history))\n",
        "lowest_occupancy = round(min(lot_occupancy_history))\n",
        "\n",
        "print(f\"The entire lot had an average occupancy of {average_occupancy}% with a median occupancy of {median_occupancy}%.\")"
      ]
    },
    {
      "cell_type": "code",
      "execution_count": null,
      "metadata": {
        "id": "CtH7f9sFy457"
      },
      "outputs": [],
      "source": [
        "print(lot_occupancy_history)"
      ]
    },
    {
      "cell_type": "markdown",
      "source": [
        "### Total Occupancy"
      ],
      "metadata": {
        "id": "8T-1fSxuecL0"
      }
    },
    {
      "cell_type": "code",
      "execution_count": null,
      "metadata": {
        "id": "hxPAI8ebVnUb",
        "colab": {
          "base_uri": "https://localhost:8080/",
          "height": 445
        },
        "outputId": "57ebb50c-9af9-4112-9b43-aece5360a8ae"
      },
      "outputs": [
        {
          "output_type": "display_data",
          "data": {
            "text/plain": [
              "<Figure size 640x480 with 1 Axes>"
            ],
            "image/png": "[encoded data removed]"
          },
          "metadata": {}
        }
      ],
      "source": [
        "%matplotlib inline\n",
        "\n",
        "import matplotlib.pyplot as plt\n",
        "\n",
        "fig, ax1 = plt.subplots()\n",
        "plt.title('Total Lot Usage')\n",
        "ax1.grid(color='#2A3459')\n",
        "ax1.set_ylabel('Occupied Percentage (%)')\n",
        "plt.plot(lot_occupancy_history)\n",
        "plt.show()"
      ]
    }
  ],
  "metadata": {
    "accelerator": "GPU",
    "colab": {
      "gpuType": "T4",
      "provenance": []
    },
    "kernelspec": {
      "display_name": "Python 3",
      "name": "python3"
    },
    "language_info": {
      "name": "python"
    }
  },
  "nbformat": 4,
  "nbformat_minor": 0
}